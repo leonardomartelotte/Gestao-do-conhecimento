{
  "nbformat": 4,
  "nbformat_minor": 0,
  "metadata": {
    "kernelspec": {
      "display_name": "Python 3",
      "language": "python",
      "name": "python3"
    },
    "language_info": {
      "codemirror_mode": {
        "name": "ipython",
        "version": 3
      },
      "file_extension": ".py",
      "mimetype": "text/x-python",
      "name": "python",
      "nbconvert_exporter": "python",
      "pygments_lexer": "ipython3",
      "version": "3.7.2"
    },
    "colab": {
      "name": "2020_2_Prova_AV2_Gestão_do_Conhecimento.ipynb",
      "provenance": [],
      "collapsed_sections": []
    }
  },
  "cells": [
    {
      "cell_type": "markdown",
      "metadata": {
        "id": "8e6IcCsJCxVz"
      },
      "source": [
        "DISCIPLINA: Gestão do Conhecimento\t PROFESSOR(A): Alex Salgado\n",
        "PERÍODO: 7o. TURNO: noite AVALIAÇÃO:\n",
        "\n",
        "ALUNO(A): Guilherme Alexandre e Leonardo Martelotte\n",
        "\n",
        "GRAU: VISTO DO PROFESSOR:\n"
      ]
    },
    {
      "cell_type": "markdown",
      "metadata": {
        "id": "_3h1pahVCxV2"
      },
      "source": [
        "# Questão 1 - valor (0,0)\n"
      ]
    },
    {
      "cell_type": "markdown",
      "metadata": {
        "id": "A-cj5d2rCxV3"
      },
      "source": [
        "*** Crie um repositório no Github e adicione este arquivo no mesmo\n",
        "\n",
        "\n",
        "1.1 - Você deve escolher uma base de dados aberta que seja possível treinar um modelo de aprendizagem de máquina Supervisionado de Classificação (assim como o exemplo da Iris e Cancer). A partir desta base de dados, você vai treinar o modelo, fazer previsões e calcular a acurácia do mesmo.\n",
        "Obs.: Não utilizar nenhuma base de dados usada em aula,  nos trabalhos ou na biblioteca do sklearn.\n"
      ]
    },
    {
      "cell_type": "markdown",
      "metadata": {
        "id": "3P5uSWxsDb5r"
      },
      "source": [
        "1.1 - Descreva aqui o que sua base de dados guarda.\n",
        "\n",
        "Dados de consumo de cerveja em determinada área universitária localizada na cidade de São Paulo, contendo:\n",
        "\n",
        "- Temperatura Media\n",
        "- Temperatura Minima\n",
        "- Temperatura Maxima\n",
        "- Precipitacao\n",
        "- Final de Semana\n",
        "- Consumo de cerveja"
      ]
    },
    {
      "cell_type": "markdown",
      "metadata": {
        "id": "a-D7KRIzCxV8"
      },
      "source": [
        "1.2 - Após tratada, criar uma pasta no seu GoogleDrive e disponibilizar o link do arquivo de sua base (csv, xlsx, etc) para ser importado no seu código.\n",
        "\n",
        "- URL DO DOCUMENTO GUARDADO NO GOOGLE DRIVE: https://drive.google.com/file/d/1sOen-qzOlPHwcIRBPvO6nmVfeJM4bHIS/view?usp=sharing\n",
        "\n",
        "\n",
        "- URL RAW GUARDADA NO GITHUB: https://raw.githubusercontent.com/leonardomartelotte/Gestao-do-conhecimento/main/av2/consumo_cerveja.csv"
      ]
    },
    {
      "cell_type": "markdown",
      "metadata": {
        "id": "lvPXgDBDCxV_"
      },
      "source": [
        "## Criar um código usando o Jupyter Notebook e responder (através de código) às seguintes questões:\n"
      ]
    },
    {
      "cell_type": "markdown",
      "metadata": {
        "id": "LMkAEsOKCxWA"
      },
      "source": [
        "# Questão 2 - valor (0,5)"
      ]
    },
    {
      "cell_type": "markdown",
      "metadata": {
        "id": "yOSNQel0CxWA"
      },
      "source": [
        "2.1 - Importar os modulos python para machine learn e carregar o arquivo \n",
        "\n",
        "** Sugestão se for do tipo xlsx, usar o read_excel do pandas\n",
        "import pandas as pd\n",
        "dt = pd.read_excel(\"meuarquivo.xlsx\")\n"
      ]
    },
    {
      "cell_type": "code",
      "metadata": {
        "id": "zA6l-qg9CxWB"
      },
      "source": [
        "import pandas as pd\n",
        "from sklearn.model_selection import train_test_split\n",
        "from sklearn.linear_model import LogisticRegression\n",
        "from sklearn.neighbors import KNeighborsClassifier\n",
        "from sklearn import metrics\n",
        "\n",
        "dataFile = pd.read_csv('https://raw.githubusercontent.com/leonardomartelotte/Gestao-do-conhecimento/main/av2/consumo_cerveja.csv')"
      ],
      "execution_count": 33,
      "outputs": []
    },
    {
      "cell_type": "markdown",
      "metadata": {
        "id": "_NIYxnZnCxWD"
      },
      "source": [
        "2.2 - Exibir os primeiros registros desta tabela.\n"
      ]
    },
    {
      "cell_type": "code",
      "metadata": {
        "id": "owd5CVN9CxWE",
        "colab": {
          "base_uri": "https://localhost:8080/",
          "height": 204
        },
        "outputId": "32a07213-4eca-4a13-f88d-e1c5da598979"
      },
      "source": [
        "dataFile.head()"
      ],
      "execution_count": 34,
      "outputs": [
        {
          "output_type": "execute_result",
          "data": {
            "text/html": [
              "<div>\n",
              "<style scoped>\n",
              "    .dataframe tbody tr th:only-of-type {\n",
              "        vertical-align: middle;\n",
              "    }\n",
              "\n",
              "    .dataframe tbody tr th {\n",
              "        vertical-align: top;\n",
              "    }\n",
              "\n",
              "    .dataframe thead th {\n",
              "        text-align: right;\n",
              "    }\n",
              "</style>\n",
              "<table border=\"1\" class=\"dataframe\">\n",
              "  <thead>\n",
              "    <tr style=\"text-align: right;\">\n",
              "      <th></th>\n",
              "      <th>Temperatura Media (C)</th>\n",
              "      <th>Temperatura Minima (C)</th>\n",
              "      <th>Temperatura Maxima (C)</th>\n",
              "      <th>Precipitacao (mm)</th>\n",
              "      <th>Final de Semana</th>\n",
              "      <th>Consumo de cerveja (litros)</th>\n",
              "    </tr>\n",
              "  </thead>\n",
              "  <tbody>\n",
              "    <tr>\n",
              "      <th>0</th>\n",
              "      <td>27.30</td>\n",
              "      <td>23.9</td>\n",
              "      <td>32.5</td>\n",
              "      <td>0.0</td>\n",
              "      <td>0</td>\n",
              "      <td>25461</td>\n",
              "    </tr>\n",
              "    <tr>\n",
              "      <th>1</th>\n",
              "      <td>27.02</td>\n",
              "      <td>24.5</td>\n",
              "      <td>33.5</td>\n",
              "      <td>0.0</td>\n",
              "      <td>0</td>\n",
              "      <td>28972</td>\n",
              "    </tr>\n",
              "    <tr>\n",
              "      <th>2</th>\n",
              "      <td>24.82</td>\n",
              "      <td>22.4</td>\n",
              "      <td>29.9</td>\n",
              "      <td>0.0</td>\n",
              "      <td>1</td>\n",
              "      <td>30814</td>\n",
              "    </tr>\n",
              "    <tr>\n",
              "      <th>3</th>\n",
              "      <td>23.98</td>\n",
              "      <td>21.5</td>\n",
              "      <td>28.6</td>\n",
              "      <td>1.2</td>\n",
              "      <td>1</td>\n",
              "      <td>29799</td>\n",
              "    </tr>\n",
              "    <tr>\n",
              "      <th>4</th>\n",
              "      <td>23.82</td>\n",
              "      <td>21.0</td>\n",
              "      <td>28.3</td>\n",
              "      <td>0.0</td>\n",
              "      <td>0</td>\n",
              "      <td>28900</td>\n",
              "    </tr>\n",
              "  </tbody>\n",
              "</table>\n",
              "</div>"
            ],
            "text/plain": [
              "    Temperatura Media (C)   ...  Consumo de cerveja (litros)\n",
              "0                    27.30  ...                        25461\n",
              "1                    27.02  ...                        28972\n",
              "2                    24.82  ...                        30814\n",
              "3                    23.98  ...                        29799\n",
              "4                    23.82  ...                        28900\n",
              "\n",
              "[5 rows x 6 columns]"
            ]
          },
          "metadata": {
            "tags": []
          },
          "execution_count": 34
        }
      ]
    },
    {
      "cell_type": "markdown",
      "metadata": {
        "id": "ROM2Hy1CCxWG"
      },
      "source": [
        "2.3 - De que se trata esse banco de dados? e que tipo de previsão pode ser feito com ele?\n",
        "\n",
        "Se trata de um banco de dados sobre consumo de cerveja em determinado local, conforme já exposto na questão 1.1.\n",
        "Através dela poderemos prever, dentre outras coisas, como fatores como chuva e finais de semana influenciam o consumo de cerveja em uma área universitária.\n"
      ]
    },
    {
      "cell_type": "markdown",
      "metadata": {
        "id": "1lCf85KKCxWJ"
      },
      "source": [
        "# Questão 3 - valor (0,5)\n"
      ]
    },
    {
      "cell_type": "markdown",
      "metadata": {
        "id": "isyZsq2NCxWK"
      },
      "source": [
        "Utilizando as terminologias de Machine Learning(features e observações):\n",
        "\n"
      ]
    },
    {
      "cell_type": "markdown",
      "metadata": {
        "id": "pbuaWyeECxWL"
      },
      "source": [
        "3.1 - Quantas \"features\" têm nessa base de dados?\n",
        "\n",
        "6 features, sendo:\n",
        "\n",
        "- Temperatura Media\n",
        "- Temperatura Minima\n",
        "- Temperatura Maxima\n",
        "- Precipitacao\n",
        "- Final de Semana\n",
        "- Consumo de cerveja"
      ]
    },
    {
      "cell_type": "markdown",
      "metadata": {
        "id": "RtwxkASmCxWN"
      },
      "source": [
        "3.2 - Quantas observações têm nessa base de dados?\n",
        "\n",
        "R: 365\n"
      ]
    },
    {
      "cell_type": "code",
      "metadata": {
        "id": "yN1QNvh-CxWO",
        "colab": {
          "base_uri": "https://localhost:8080/"
        },
        "outputId": "4f2f2c25-4050-434e-fc61-8c79394b1bac"
      },
      "source": [
        "dataFile.shape"
      ],
      "execution_count": 35,
      "outputs": [
        {
          "output_type": "execute_result",
          "data": {
            "text/plain": [
              "(365, 6)"
            ]
          },
          "metadata": {
            "tags": []
          },
          "execution_count": 35
        }
      ]
    },
    {
      "cell_type": "markdown",
      "metadata": {
        "id": "AudYWfr1CxWQ"
      },
      "source": [
        "# Questão 4 - valor (1,0)\n"
      ]
    },
    {
      "cell_type": "markdown",
      "metadata": {
        "id": "pJxRMc1HCxWR"
      },
      "source": [
        "4.1 - Faça uma previsão, usando o algoritmo de LogisticRegression.\n"
      ]
    },
    {
      "cell_type": "code",
      "metadata": {
        "id": "Tu7ZKtSkCxWS",
        "colab": {
          "base_uri": "https://localhost:8080/"
        },
        "outputId": "0e7740e0-c745-4809-ef26-ebd03a508d8b"
      },
      "source": [
        "X = dataFile.iloc[:, 0:5]\n",
        "y = dataFile.iloc[:, 5]\n",
        "\n",
        "logReg = LogisticRegression(max_iter=5000)\n",
        "logReg.fit(X, y)\n",
        "logReg.predict(X)"
      ],
      "execution_count": 43,
      "outputs": [
        {
          "output_type": "execute_result",
          "data": {
            "text/plain": [
              "array([25461, 28972, 30814, 29799, 24567, 28218, 29732, 28397, 24886,\n",
              "       37937, 36254, 27387, 26990, 26990, 25724, 29938, 37690, 30524,\n",
              "       29265, 35127, 22960, 25795, 21784, 28348, 31088, 20903, 22933,\n",
              "       22603, 24567, 26095, 24862, 32057, 22933, 31655, 24738, 19950,\n",
              "       22821, 28893, 25343, 30300, 21137, 22603, 26389, 28972, 30231,\n",
              "       24968, 21735, 17399, 21392, 22933, 24567, 30943, 30231, 25692,\n",
              "       29267, 25366, 22784, 31139, 28028, 27475, 22389, 28647, 31649,\n",
              "       30300, 22654, 29090, 24619, 20016, 22933, 22933, 22409, 26095,\n",
              "       28844, 32713, 20903, 26275, 24862, 23628, 24213, 28631, 24862,\n",
              "       21406, 24862, 22401, 24974, 24974, 29760, 26116, 25850, 22933,\n",
              "       24258, 24862, 26127, 33450, 32713, 22356, 21004, 23362, 20298,\n",
              "       24862, 32666, 24862, 24862, 22001, 24862, 21735, 21593, 31088,\n",
              "       26116, 24304, 31108, 19113, 23198, 24388, 24862, 24862, 24862,\n",
              "       28742, 24862, 20106, 17939, 30177, 28049, 24862, 21826, 24862,\n",
              "       24862, 18146, 30177, 23566, 16956, 21825, 16228, 20681, 20538,\n",
              "       23702, 24862, 24862, 24862, 24862, 24862, 24862, 24862, 24862,\n",
              "       24615, 24862, 28405, 24683, 26594, 25937, 26081, 16228, 20106,\n",
              "       24862, 22304, 21104, 31663, 28049, 25867, 20620, 20620, 24615,\n",
              "       24862, 29621, 32983, 19119, 21029, 20161, 24534, 16748, 23055,\n",
              "       24227, 20161, 21104, 17241, 19463, 21860, 24227, 24227, 24227,\n",
              "       20161, 24862, 19727, 14940, 24632, 21294, 18448, 21237, 19849,\n",
              "       19345, 20161, 26691, 33298, 26580, 26793, 28742, 20298, 24862,\n",
              "       24862, 31663, 20620, 21825, 14343, 21237, 21104, 20738, 25233,\n",
              "       24227, 24227, 24227, 24227, 24726, 31663, 31663, 25867, 25867,\n",
              "       25867, 23181, 26580, 29621, 33517, 22541, 24183, 24726, 30775,\n",
              "       22610, 29621, 26272, 26580, 24615, 28742, 17655, 23243, 30177,\n",
              "       27518, 17655, 17888, 23357, 17888, 22217, 31681, 31833, 30329,\n",
              "       22389, 20681, 23898, 20106, 21827, 23566, 20161, 17075, 16977,\n",
              "       24726, 21454, 21814, 21252, 19119, 30775, 30329, 33930, 26311,\n",
              "       37690, 34695, 30329, 32589, 27871, 30345, 29411, 29637, 32184,\n",
              "       17731, 24615, 22356, 22664, 29732, 24876, 24862, 24679, 22304,\n",
              "       30329, 35861, 22446, 32057, 34496, 28647, 26523, 26793, 35861,\n",
              "       27387, 32666, 22199, 24183, 27871, 31139, 23065, 25343, 24862,\n",
              "       26691, 28084, 27582, 24862, 24862, 31649, 31088, 24429, 20648,\n",
              "       22741, 24213, 23134, 24862, 24330, 24862, 25343, 27964, 33930,\n",
              "       29267, 28647, 26836, 29386, 24862, 22389, 23614, 22960, 22933,\n",
              "       26594, 31933, 21662, 20467, 24862, 24862, 28979, 31088, 30617,\n",
              "       20238, 24862, 26964, 26095, 28647, 32451, 32780, 23375, 22001,\n",
              "       27137, 24567, 30740, 30231, 29188, 26468, 28617, 21062, 26793,\n",
              "       33182, 32536, 29386, 24834, 26828, 26468, 31572, 26308, 21955,\n",
              "       32307, 26095, 22309, 20467, 22446])"
            ]
          },
          "metadata": {
            "tags": []
          },
          "execution_count": 43
        }
      ]
    },
    {
      "cell_type": "markdown",
      "metadata": {
        "id": "xbpLvAhTCxWU"
      },
      "source": [
        "# Questão 5 - valor (1,5)\n"
      ]
    },
    {
      "cell_type": "markdown",
      "metadata": {
        "id": "cp4fWsL7CxWU"
      },
      "source": [
        "Usando o método de avaliação de acurácia (Treinar e testar na base de dados inteira/Train test entire model), Calcular a acurácia de cada um dos 3 métodos abaixo."
      ]
    },
    {
      "cell_type": "markdown",
      "metadata": {
        "id": "C40t1F9ICxWV"
      },
      "source": [
        "4.1 - Acurácia usando o algoritmo de KNN (com 1 vizinho, k=1)\n"
      ]
    },
    {
      "cell_type": "code",
      "metadata": {
        "id": "3d5YPueDCxWW",
        "colab": {
          "base_uri": "https://localhost:8080/"
        },
        "outputId": "8deafbc1-5e7e-440d-a6a7-aa7e0f949a8a"
      },
      "source": [
        "knn = KNeighborsClassifier(n_neighbors=1)\n",
        "knn.fit(X, y)\n",
        "y_pred = knn.predict(X)\n",
        "print(metrics.accuracy_score(y, y_pred))"
      ],
      "execution_count": 39,
      "outputs": [
        {
          "output_type": "stream",
          "text": [
            "0.9972602739726028\n"
          ],
          "name": "stdout"
        }
      ]
    },
    {
      "cell_type": "markdown",
      "metadata": {
        "id": "mNmy44xfCxWY"
      },
      "source": [
        "4.2 - Acurácia usando o algoritmo de KNN (com 5 vizinho, k=5)\n"
      ]
    },
    {
      "cell_type": "code",
      "metadata": {
        "id": "caGkCtYGCxWY",
        "colab": {
          "base_uri": "https://localhost:8080/"
        },
        "outputId": "be1f9ee5-6703-413e-a902-4e0b1acdf4c0"
      },
      "source": [
        "\n",
        "knn = KNeighborsClassifier(n_neighbors=5)\n",
        "knn.fit(X, y)\n",
        "y_pred = knn.predict(X)\n",
        "print(metrics.accuracy_score(y, y_pred))"
      ],
      "execution_count": 40,
      "outputs": [
        {
          "output_type": "stream",
          "text": [
            "0.1863013698630137\n"
          ],
          "name": "stdout"
        }
      ]
    },
    {
      "cell_type": "markdown",
      "metadata": {
        "id": "3xUZm_JICxWa"
      },
      "source": [
        "4.3 - Acurácia usando o algoritmo de LogisticRegression\n"
      ]
    },
    {
      "cell_type": "code",
      "metadata": {
        "id": "VvAgNcVsCxWb",
        "colab": {
          "base_uri": "https://localhost:8080/"
        },
        "outputId": "45c9aac6-f416-402c-cdb3-d7eda74be6ee"
      },
      "source": [
        "logReg = LogisticRegression(max_iter=5000)\n",
        "logReg.fit(X,y)\n",
        "y_pred= logReg.predict(X)\n",
        "print(metrics.accuracy_score(y, y_pred))"
      ],
      "execution_count": 42,
      "outputs": [
        {
          "output_type": "stream",
          "text": [
            "0.40273972602739727\n"
          ],
          "name": "stdout"
        }
      ]
    },
    {
      "cell_type": "markdown",
      "metadata": {
        "id": "8FkyIUHbCxWd"
      },
      "source": [
        "4.4 - De acordo com seus resultados anteriores, qual dos 3 métodos é mais eficiente?\n",
        "\n",
        "O método KNN 1 foi o que retornou a maior acurácia, sendo, portanto, mais eficiente."
      ]
    },
    {
      "cell_type": "code",
      "metadata": {
        "id": "zRDUIRloCxWf"
      },
      "source": [
        "*** Envie o link do seu Github com essa resposta no Classroom\n"
      ],
      "execution_count": null,
      "outputs": []
    }
  ]
}