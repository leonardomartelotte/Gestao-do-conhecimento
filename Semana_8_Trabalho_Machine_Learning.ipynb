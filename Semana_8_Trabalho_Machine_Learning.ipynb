{
  "nbformat": 4,
  "nbformat_minor": 0,
  "metadata": {
    "colab": {
      "name": "Semana 8 Trabalho Machine Learning.ipynb",
      "provenance": [],
      "collapsed_sections": []
    },
    "kernelspec": {
      "name": "python3",
      "display_name": "Python 3"
    }
  },
  "cells": [
    {
      "cell_type": "markdown",
      "metadata": {
        "id": "6jHCv9VdebpE"
      },
      "source": [
        "Utilizando o banco de dados de Câncer da biblioteca do sklearn, realize os passos da aula passada e diga:\n",
        "\n",
        "1-Acurácia Train entire model: KNN(1), KNN(5) e LogReg\n",
        "\n",
        "2-Acurácia Train/Test Split : KNN(1), KNN(5) e LogReg\n",
        "\n",
        "3-Gráfico de Tunning KNN(1-25)\n",
        "\n",
        "4-Qual o melhor modelo com a melhor acurácia?\n",
        "\n",
        "** O MODELO COM MELHOR ACURÁCIA FOI O knn_1 com entire_model **\n",
        "\n",
        "Envie o link com seu código no github"
      ]
    },
    {
      "cell_type": "code",
      "metadata": {
        "id": "jpGNkN27eVQ0",
        "outputId": "89bcd81b-0b83-4005-fdd9-79b026bc3258",
        "colab": {
          "base_uri": "https://localhost:8080/"
        }
      },
      "source": [
        "from sklearn.datasets import load_breast_cancer\n",
        "from sklearn.model_selection import train_test_split\n",
        "from sklearn.neighbors import KNeighborsClassifier\n",
        "from sklearn import metrics\n",
        "\n",
        "breastCancerData = load_breast_cancer()\n",
        "#print(\"Cancer Keys: \\n{}\\n\".format(cancer.keys()))\n",
        "#print(cancer.data)\n",
        "entireModelX = breastCancerData.data\n",
        "entireModelY = breastCancerData.target\n",
        "\n",
        "X, y = load_breast_cancer(return_X_y=True)\n",
        "X_train, X_test, y_train, y_test = train_test_split(X, y, random_state=0, test_size=0.5)\n",
        "\n",
        "knn_1 = KNeighborsClassifier(n_neighbors = 1)\n",
        "knn_1.fit(X_train, y_train)\n"
      ],
      "execution_count": 19,
      "outputs": [
        {
          "output_type": "execute_result",
          "data": {
            "text/plain": [
              "KNeighborsClassifier(algorithm='auto', leaf_size=30, metric='minkowski',\n",
              "                     metric_params=None, n_jobs=None, n_neighbors=1, p=2,\n",
              "                     weights='uniform')"
            ]
          },
          "metadata": {
            "tags": []
          },
          "execution_count": 19
        }
      ]
    },
    {
      "cell_type": "code",
      "metadata": {
        "id": "3J_F3HVE5ip1",
        "outputId": "0fd2fbcb-31ed-4933-df77-ca1447d03935",
        "colab": {
          "base_uri": "https://localhost:8080/"
        }
      },
      "source": [
        "yPred_knn_1 = knn_1.predict(X_test)\n",
        "print('Acurácia do knn_1 com test_split:', metrics.accuracy_score(y_test, yPred_knn_1))\n"
      ],
      "execution_count": 20,
      "outputs": [
        {
          "output_type": "stream",
          "text": [
            "Acurácia do knn_1 com test_split: 0.9263157894736842\n"
          ],
          "name": "stdout"
        }
      ]
    },
    {
      "cell_type": "code",
      "metadata": {
        "id": "Xmc620B3-C28",
        "outputId": "6a87c9f4-44ae-4e6d-cdc3-f6ecb5735519",
        "colab": {
          "base_uri": "https://localhost:8080/"
        }
      },
      "source": [
        "knn_1.fit(entireModelX, entireModelY)\n",
        "yPred_knn_1 = knn_1.predict(X_test)\n",
        "print('Acurácia do knn_1 com entire_model:', metrics.accuracy_score(y_test, yPred_knn_1))"
      ],
      "execution_count": 21,
      "outputs": [
        {
          "output_type": "stream",
          "text": [
            "Acurácia do knn_1 com entire_model: 1.0\n"
          ],
          "name": "stdout"
        }
      ]
    },
    {
      "cell_type": "code",
      "metadata": {
        "id": "CnuZva8UzllX",
        "outputId": "cc837556-eb82-489f-9c5b-d162f2a4addf",
        "colab": {
          "base_uri": "https://localhost:8080/"
        }
      },
      "source": [
        "knn_5 = KNeighborsClassifier(n_neighbors = 5)\n",
        "knn_5.fit(X_train, y_train)"
      ],
      "execution_count": 22,
      "outputs": [
        {
          "output_type": "execute_result",
          "data": {
            "text/plain": [
              "KNeighborsClassifier(algorithm='auto', leaf_size=30, metric='minkowski',\n",
              "                     metric_params=None, n_jobs=None, n_neighbors=5, p=2,\n",
              "                     weights='uniform')"
            ]
          },
          "metadata": {
            "tags": []
          },
          "execution_count": 22
        }
      ]
    },
    {
      "cell_type": "code",
      "metadata": {
        "id": "xMGxwTR85neU",
        "outputId": "4cfc0634-95d1-4b26-b928-7755e412d6fa",
        "colab": {
          "base_uri": "https://localhost:8080/"
        }
      },
      "source": [
        "yPred_knn_5 = knn_5.predict(X_test)\n",
        "print('Acurácia do knn_5 com test_split:', metrics.accuracy_score(y_test, yPred_knn_5))\n"
      ],
      "execution_count": 23,
      "outputs": [
        {
          "output_type": "stream",
          "text": [
            "Acurácia do knn_5 com test_split: 0.9368421052631579\n"
          ],
          "name": "stdout"
        }
      ]
    },
    {
      "cell_type": "code",
      "metadata": {
        "id": "F0ptIQLJ-YLR",
        "outputId": "0fc9a229-3174-4527-90d4-fe72f0535c97",
        "colab": {
          "base_uri": "https://localhost:8080/"
        }
      },
      "source": [
        "knn_5.fit(entireModelX, entireModelY)\n",
        "yPred_knn_5 = knn_5.predict(X_test)\n",
        "print('Acurácia do knn_5 com entire_model:', metrics.accuracy_score(y_test, yPred_knn_5))"
      ],
      "execution_count": 24,
      "outputs": [
        {
          "output_type": "stream",
          "text": [
            "Acurácia do knn_5 com entire_model: 0.9543859649122807\n"
          ],
          "name": "stdout"
        }
      ]
    },
    {
      "cell_type": "code",
      "metadata": {
        "id": "sr8KE_C_o9fY"
      },
      "source": [
        "from sklearn.linear_model import LogisticRegression\n",
        "\n",
        "logReg = LogisticRegression(max_iter=5000)\n",
        "\n",
        "logReg.fit(X_train, y_train)\n",
        "yPredLogReg = logReg.predict(X_test)"
      ],
      "execution_count": 25,
      "outputs": []
    },
    {
      "cell_type": "code",
      "metadata": {
        "id": "GrgkG1CO1NXe",
        "outputId": "04c1be53-f802-456a-9ec0-46fa4070ccde",
        "colab": {
          "base_uri": "https://localhost:8080/"
        }
      },
      "source": [
        "print('Acurácia do LogisticRegression com test_split:', metrics.accuracy_score(y_test, yPredLogReg))\n"
      ],
      "execution_count": 26,
      "outputs": [
        {
          "output_type": "stream",
          "text": [
            "Acurácia do LogisticRegression com test_split: 0.9578947368421052\n"
          ],
          "name": "stdout"
        }
      ]
    },
    {
      "cell_type": "code",
      "metadata": {
        "id": "79OQvvCgBIRu",
        "outputId": "0b27ec60-aacc-4f41-c6af-fdab03cc6ac1",
        "colab": {
          "base_uri": "https://localhost:8080/"
        }
      },
      "source": [
        "logReg = LogisticRegression(max_iter=4000)\n",
        "logReg.fit(entireModelX, entireModelY)\n",
        "yPredLogReg = logReg.predict(X_test)\n",
        "print('Acurácia do LogisticRegression com entire_model:', metrics.accuracy_score(y_test, yPredLogReg))"
      ],
      "execution_count": 28,
      "outputs": [
        {
          "output_type": "stream",
          "text": [
            "Acurácia do LogisticRegression com entire_model: 0.9754385964912281\n"
          ],
          "name": "stdout"
        }
      ]
    },
    {
      "cell_type": "code",
      "metadata": {
        "id": "tP2qHhHCTLpE",
        "outputId": "ee30a9ae-4fc7-4c50-8ce5-8677f7cc63ba",
        "colab": {
          "base_uri": "https://localhost:8080/",
          "height": 296
        }
      },
      "source": [
        "k_range = list(range(1,26))\n",
        "scores = []\n",
        "\n",
        "for k in k_range:\n",
        "  knn = KNeighborsClassifier(n_neighbors = k)\n",
        "  knn.fit(X_train, y_train)\n",
        "  y_pred = knn.predict(X_test)\n",
        "  scores.append(metrics.accuracy_score(y_test, y_pred))\n",
        "\n",
        "import matplotlib.pyplot as plt\n",
        "\n",
        "%matplotlib inline\n",
        "plt.plot(k_range, scores)\n",
        "plt.xlabel('Valor de K')\n",
        "plt.ylabel('Acurácia')"
      ],
      "execution_count": 31,
      "outputs": [
        {
          "output_type": "execute_result",
          "data": {
            "text/plain": [
              "Text(0, 0.5, 'Acurácia')"
            ]
          },
          "metadata": {
            "tags": []
          },
          "execution_count": 31
        },
        {
          "output_type": "display_data",
          "data": {
            "image/png": "[encoded data removed]",
            "text/plain": [
              "<Figure size 432x288 with 1 Axes>"
            ]
          },
          "metadata": {
            "tags": [],
            "needs_background": "light"
          }
        }
      ]
    }
  ]
}