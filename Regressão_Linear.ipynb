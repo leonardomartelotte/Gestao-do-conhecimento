{
  "nbformat": 4,
  "nbformat_minor": 0,
  "metadata": {
    "colab": {
      "name": "Regressão Linear.ipynb",
      "provenance": []
    },
    "kernelspec": {
      "name": "python3",
      "display_name": "Python 3"
    }
  },
  "cells": [
    {
      "cell_type": "markdown",
      "metadata": {
        "id": "gQnRrANnoh_9"
      },
      "source": [
        "Aluno: Leonardo Martelotte\n",
        "\n",
        "Matrícula: 0050015200"
      ]
    },
    {
      "cell_type": "code",
      "metadata": {
        "id": "w3dQ8K3dodik"
      },
      "source": [
        "\n",
        "import pandas as pd\n",
        "from sklearn.datasets import load_boston\n",
        "\n",
        "dataset = load_boston()\n",
        "data = pd.DataFrame(dataset.data)\n",
        "data.columns = dataset.feature_names"
      ],
      "execution_count": 1,
      "outputs": []
    },
    {
      "cell_type": "markdown",
      "metadata": {
        "id": "Ubge2PJeo92i"
      },
      "source": [
        "1-Mostre os primeiros registros da tabela"
      ]
    },
    {
      "cell_type": "code",
      "metadata": {
        "colab": {
          "base_uri": "https://localhost:8080/",
          "height": 204
        },
        "id": "IgBEi9MMo9Kk",
        "outputId": "ffce0953-f956-400d-95c1-f8209bc347cc"
      },
      "source": [
        "data.head()"
      ],
      "execution_count": 2,
      "outputs": [
        {
          "output_type": "execute_result",
          "data": {
            "text/html": [
              "<div>\n",
              "<style scoped>\n",
              "    .dataframe tbody tr th:only-of-type {\n",
              "        vertical-align: middle;\n",
              "    }\n",
              "\n",
              "    .dataframe tbody tr th {\n",
              "        vertical-align: top;\n",
              "    }\n",
              "\n",
              "    .dataframe thead th {\n",
              "        text-align: right;\n",
              "    }\n",
              "</style>\n",
              "<table border=\"1\" class=\"dataframe\">\n",
              "  <thead>\n",
              "    <tr style=\"text-align: right;\">\n",
              "      <th></th>\n",
              "      <th>CRIM</th>\n",
              "      <th>ZN</th>\n",
              "      <th>INDUS</th>\n",
              "      <th>CHAS</th>\n",
              "      <th>NOX</th>\n",
              "      <th>RM</th>\n",
              "      <th>AGE</th>\n",
              "      <th>DIS</th>\n",
              "      <th>RAD</th>\n",
              "      <th>TAX</th>\n",
              "      <th>PTRATIO</th>\n",
              "      <th>B</th>\n",
              "      <th>LSTAT</th>\n",
              "    </tr>\n",
              "  </thead>\n",
              "  <tbody>\n",
              "    <tr>\n",
              "      <th>0</th>\n",
              "      <td>0.00632</td>\n",
              "      <td>18.0</td>\n",
              "      <td>2.31</td>\n",
              "      <td>0.0</td>\n",
              "      <td>0.538</td>\n",
              "      <td>6.575</td>\n",
              "      <td>65.2</td>\n",
              "      <td>4.0900</td>\n",
              "      <td>1.0</td>\n",
              "      <td>296.0</td>\n",
              "      <td>15.3</td>\n",
              "      <td>396.90</td>\n",
              "      <td>4.98</td>\n",
              "    </tr>\n",
              "    <tr>\n",
              "      <th>1</th>\n",
              "      <td>0.02731</td>\n",
              "      <td>0.0</td>\n",
              "      <td>7.07</td>\n",
              "      <td>0.0</td>\n",
              "      <td>0.469</td>\n",
              "      <td>6.421</td>\n",
              "      <td>78.9</td>\n",
              "      <td>4.9671</td>\n",
              "      <td>2.0</td>\n",
              "      <td>242.0</td>\n",
              "      <td>17.8</td>\n",
              "      <td>396.90</td>\n",
              "      <td>9.14</td>\n",
              "    </tr>\n",
              "    <tr>\n",
              "      <th>2</th>\n",
              "      <td>0.02729</td>\n",
              "      <td>0.0</td>\n",
              "      <td>7.07</td>\n",
              "      <td>0.0</td>\n",
              "      <td>0.469</td>\n",
              "      <td>7.185</td>\n",
              "      <td>61.1</td>\n",
              "      <td>4.9671</td>\n",
              "      <td>2.0</td>\n",
              "      <td>242.0</td>\n",
              "      <td>17.8</td>\n",
              "      <td>392.83</td>\n",
              "      <td>4.03</td>\n",
              "    </tr>\n",
              "    <tr>\n",
              "      <th>3</th>\n",
              "      <td>0.03237</td>\n",
              "      <td>0.0</td>\n",
              "      <td>2.18</td>\n",
              "      <td>0.0</td>\n",
              "      <td>0.458</td>\n",
              "      <td>6.998</td>\n",
              "      <td>45.8</td>\n",
              "      <td>6.0622</td>\n",
              "      <td>3.0</td>\n",
              "      <td>222.0</td>\n",
              "      <td>18.7</td>\n",
              "      <td>394.63</td>\n",
              "      <td>2.94</td>\n",
              "    </tr>\n",
              "    <tr>\n",
              "      <th>4</th>\n",
              "      <td>0.06905</td>\n",
              "      <td>0.0</td>\n",
              "      <td>2.18</td>\n",
              "      <td>0.0</td>\n",
              "      <td>0.458</td>\n",
              "      <td>7.147</td>\n",
              "      <td>54.2</td>\n",
              "      <td>6.0622</td>\n",
              "      <td>3.0</td>\n",
              "      <td>222.0</td>\n",
              "      <td>18.7</td>\n",
              "      <td>396.90</td>\n",
              "      <td>5.33</td>\n",
              "    </tr>\n",
              "  </tbody>\n",
              "</table>\n",
              "</div>"
            ],
            "text/plain": [
              "      CRIM    ZN  INDUS  CHAS    NOX  ...  RAD    TAX  PTRATIO       B  LSTAT\n",
              "0  0.00632  18.0   2.31   0.0  0.538  ...  1.0  296.0     15.3  396.90   4.98\n",
              "1  0.02731   0.0   7.07   0.0  0.469  ...  2.0  242.0     17.8  396.90   9.14\n",
              "2  0.02729   0.0   7.07   0.0  0.469  ...  2.0  242.0     17.8  392.83   4.03\n",
              "3  0.03237   0.0   2.18   0.0  0.458  ...  3.0  222.0     18.7  394.63   2.94\n",
              "4  0.06905   0.0   2.18   0.0  0.458  ...  3.0  222.0     18.7  396.90   5.33\n",
              "\n",
              "[5 rows x 13 columns]"
            ]
          },
          "metadata": {
            "tags": []
          },
          "execution_count": 2
        }
      ]
    },
    {
      "cell_type": "markdown",
      "metadata": {
        "id": "m2CBMX1YpA_m"
      },
      "source": [
        "2-Observações(linhas) possui nessa base? Quantas Colunas?\n",
        "\n",
        "506 linhas e 13 colunas."
      ]
    },
    {
      "cell_type": "code",
      "metadata": {
        "colab": {
          "base_uri": "https://localhost:8080/"
        },
        "id": "h5_a58SQpyvj",
        "outputId": "c3a9c0cd-32c8-4911-9b0a-d7ace9432452"
      },
      "source": [
        "data.shape"
      ],
      "execution_count": 3,
      "outputs": [
        {
          "output_type": "execute_result",
          "data": {
            "text/plain": [
              "(506, 13)"
            ]
          },
          "metadata": {
            "tags": []
          },
          "execution_count": 3
        }
      ]
    },
    {
      "cell_type": "markdown",
      "metadata": {
        "id": "Q6RpR28kpBJ0"
      },
      "source": [
        "3-Quantas Features Possui?\n",
        "\n",
        "13 features"
      ]
    },
    {
      "cell_type": "code",
      "metadata": {
        "colab": {
          "base_uri": "https://localhost:8080/"
        },
        "id": "3vTOaIEyqEpz",
        "outputId": "9f30bb44-5833-4539-c96a-d0b2e2b5f1f6"
      },
      "source": [
        "len(dataset.feature_names)"
      ],
      "execution_count": 4,
      "outputs": [
        {
          "output_type": "execute_result",
          "data": {
            "text/plain": [
              "13"
            ]
          },
          "metadata": {
            "tags": []
          },
          "execution_count": 4
        }
      ]
    },
    {
      "cell_type": "markdown",
      "metadata": {
        "id": "0iUtL3kxpBSH"
      },
      "source": [
        "4-Qual é o campo Target(respostas) dessa base?\n",
        "\n",
        "MEDV"
      ]
    },
    {
      "cell_type": "code",
      "metadata": {
        "id": "Jcz34ZpAqjYy"
      },
      "source": [
        "data['MEDV'] = dataset.target"
      ],
      "execution_count": 5,
      "outputs": []
    },
    {
      "cell_type": "markdown",
      "metadata": {
        "id": "IMfIWQ1cpBi-"
      },
      "source": [
        "5-Usando a biblioteca de visualização seaborn, plote o gráfico que mostra a relação entre as features e responses"
      ]
    },
    {
      "cell_type": "code",
      "metadata": {
        "colab": {
          "base_uri": "https://localhost:8080/",
          "height": 507
        },
        "id": "Hg3efIBIqsWY",
        "outputId": "4527463c-2145-4f01-9646-1290afa9575f"
      },
      "source": [
        "import seaborn as sns\n",
        "\n",
        "%matplotlib inline\n",
        "\n",
        "sns.pairplot(data, x_vars=['','ZN','INDUS','NOX'], y_vars='MEDV', height=7, aspect=0.7, kind='reg')"
      ],
      "execution_count": 10,
      "outputs": [
        {
          "output_type": "execute_result",
          "data": {
            "text/plain": [
              "<seaborn.axisgrid.PairGrid at 0x7fa09e4d3978>"
            ]
          },
          "metadata": {
            "tags": []
          },
          "execution_count": 10
        },
        {
          "output_type": "display_data",
          "data": {
            "image/png": "[encoded data removed]",
            "text/plain": [
              "<Figure size 1411.2x504 with 4 Axes>"
            ]
          },
          "metadata": {
            "tags": [],
            "needs_background": "light"
          }
        }
      ]
    },
    {
      "cell_type": "markdown",
      "metadata": {
        "id": "QqxBLU1tpBmY"
      },
      "source": [
        "6-Prepare X e y usando o pandas"
      ]
    },
    {
      "cell_type": "code",
      "metadata": {
        "id": "d5rbTd71rFMi"
      },
      "source": [
        "X = data[data.columns]\n",
        "y = data['MEDV']\n",
        "y = data.MEDV"
      ],
      "execution_count": 11,
      "outputs": []
    },
    {
      "cell_type": "markdown",
      "metadata": {
        "id": "cT_d47QIpBph"
      },
      "source": [
        "7-Qual o tipo de dados de X e y?\n",
        "\n",
        "X é do tipo dataframe e y é do tipo series"
      ]
    },
    {
      "cell_type": "code",
      "metadata": {
        "colab": {
          "base_uri": "https://localhost:8080/"
        },
        "id": "QawTyv6trKNe",
        "outputId": "50c27df8-3420-4092-ec03-87f432bd45b2"
      },
      "source": [
        "type(X)"
      ],
      "execution_count": 15,
      "outputs": [
        {
          "output_type": "execute_result",
          "data": {
            "text/plain": [
              "pandas.core.frame.DataFrame"
            ]
          },
          "metadata": {
            "tags": []
          },
          "execution_count": 15
        }
      ]
    },
    {
      "cell_type": "code",
      "metadata": {
        "colab": {
          "base_uri": "https://localhost:8080/"
        },
        "id": "uEN_DB3WrQ_T",
        "outputId": "38b79014-064c-4c82-bff7-89b0bf71f9e4"
      },
      "source": [
        "type(y)"
      ],
      "execution_count": 16,
      "outputs": [
        {
          "output_type": "execute_result",
          "data": {
            "text/plain": [
              "pandas.core.series.Series"
            ]
          },
          "metadata": {
            "tags": []
          },
          "execution_count": 16
        }
      ]
    },
    {
      "cell_type": "markdown",
      "metadata": {
        "id": "pw7lodOppBr7"
      },
      "source": [
        "8-Sobre o que se trata essa base de dados? Que tipo de informações ela guarda?\n",
        "\n",
        "Essa base de dados traz informações sobre o mercado imobiliário de Boston. De acordo com a documentação, essas são as informações que essa base de dados guarda:\n",
        "\n",
        "CRIM per capita crime rate by town\n",
        "\n",
        "ZN proportion of residential land zoned for lots over 25,000 sq.ft.\n",
        "\n",
        "INDUS proportion of non-retail business acres per town\n",
        "\n",
        "CHAS Charles River dummy variable (= 1 if tract bounds river; 0 otherwise)\n",
        "\n",
        "NOX nitric oxides concentration (parts per 10 million)\n",
        "\n",
        "RM average number of rooms per dwelling\n",
        "\n",
        "AGE proportion of owner-occupied units built prior to 1940\n",
        "\n",
        "DIS weighted distances to five Boston employment centres\n",
        "\n",
        "RAD index of accessibility to radial highways\n",
        "\n",
        "TAX full-value property-tax rate per $10,000\n",
        "\n",
        "PTRATIO pupil-teacher ratio by town\n",
        "\n",
        "B 1000(Bk - 0.63)^2 where Bk is the proportion of blacks by town\n",
        "\n",
        "LSTAT % lower status of the population\n",
        "\n",
        "MEDV Median value of owner-occupied homes in $1000’s\n"
      ]
    },
    {
      "cell_type": "markdown",
      "metadata": {
        "id": "iiAVzAwXpPdQ"
      },
      "source": [
        "9-Gere um X de treino e y de treino, X de teste e y da base (Split Train/Test)"
      ]
    },
    {
      "cell_type": "code",
      "metadata": {
        "id": "fSDDW9TFsawz"
      },
      "source": [
        "from sklearn.model_selection import train_test_split\n",
        "X_train, X_test, y_train, y_test = train_test_split(X, y, random_state=5)"
      ],
      "execution_count": 17,
      "outputs": []
    },
    {
      "cell_type": "markdown",
      "metadata": {
        "id": "sO83v6qypPhU"
      },
      "source": [
        "10-Qual o percentual gerado para criar o conjunto de treino e o conjunto de teste?\n",
        "\n",
        "75% para treino e 25% para teste."
      ]
    },
    {
      "cell_type": "code",
      "metadata": {
        "colab": {
          "base_uri": "https://localhost:8080/"
        },
        "id": "QVVwTmbFs0TM",
        "outputId": "b0c1e0e6-ada0-46de-a9c2-ee068beea3db"
      },
      "source": [
        "print(X_train.shape)\n",
        "print(y_train.shape)\n",
        "print(X_test.shape)\n",
        "print(y_test.shape)"
      ],
      "execution_count": 18,
      "outputs": [
        {
          "output_type": "stream",
          "text": [
            "(379, 14)\n",
            "(379,)\n",
            "(127, 14)\n",
            "(127,)\n"
          ],
          "name": "stdout"
        }
      ]
    },
    {
      "cell_type": "markdown",
      "metadata": {
        "id": "GOyzu8yIpPkk"
      },
      "source": [
        "11-Usando modelo de regressão linear do sklearn, treine o modelo com o X e y de treino"
      ]
    },
    {
      "cell_type": "code",
      "metadata": {
        "colab": {
          "base_uri": "https://localhost:8080/"
        },
        "id": "U0DfPrPNtBzh",
        "outputId": "b0bd72f1-3d65-4773-ddc9-a97725a28780"
      },
      "source": [
        "from sklearn.linear_model import LinearRegression\n",
        "\n",
        "linreg = LinearRegression()\n",
        "\n",
        "linreg.fit(X_train, y_train)"
      ],
      "execution_count": 19,
      "outputs": [
        {
          "output_type": "execute_result",
          "data": {
            "text/plain": [
              "LinearRegression(copy_X=True, fit_intercept=True, n_jobs=None, normalize=False)"
            ]
          },
          "metadata": {
            "tags": []
          },
          "execution_count": 19
        }
      ]
    },
    {
      "cell_type": "markdown",
      "metadata": {
        "id": "8haDsaRVpPoV"
      },
      "source": [
        "12-Imprima os atributos de \"intercept\" e \"coefficients\" que foram gerados"
      ]
    },
    {
      "cell_type": "code",
      "metadata": {
        "colab": {
          "base_uri": "https://localhost:8080/"
        },
        "id": "jU8FlmVutKRE",
        "outputId": "fd78fa17-4c25-4e97-966b-eac6b9a406e1"
      },
      "source": [
        "print('Intercept:')\n",
        "print(linreg.intercept_)\n",
        "print('\\nCoefficients:')\n",
        "print(linreg.coef_)"
      ],
      "execution_count": 24,
      "outputs": [
        {
          "output_type": "stream",
          "text": [
            "Intercept:\n",
            "-8.526512829121202e-14\n",
            "\n",
            "Coefficients:\n",
            "[ 1.30092808e-16  2.08166817e-17 -9.42171688e-16  1.46876191e-15\n",
            "  1.56799927e-14  1.61961509e-15 -2.55871713e-17  2.50450702e-16\n",
            "  2.40692882e-16  7.63278329e-17 -2.19632255e-16  1.71737624e-16\n",
            " -1.03866568e-16  1.00000000e+00]\n"
          ],
          "name": "stdout"
        }
      ]
    },
    {
      "cell_type": "markdown",
      "metadata": {
        "id": "vE1pMZWcpPto"
      },
      "source": [
        "13-imprima o par \"feature names\" com os \"coefficients\""
      ]
    },
    {
      "cell_type": "code",
      "metadata": {
        "colab": {
          "base_uri": "https://localhost:8080/"
        },
        "id": "DeIQkSYVto1O",
        "outputId": "8d378905-b4b1-4af0-e1a2-c4d00077410f"
      },
      "source": [
        "feature_cols = dataset.feature_names\n",
        "list(zip(feature_cols, linreg.coef_))"
      ],
      "execution_count": 25,
      "outputs": [
        {
          "output_type": "execute_result",
          "data": {
            "text/plain": [
              "[('CRIM', 1.3009280763986442e-16),\n",
              " ('ZN', 2.0816681711721685e-17),\n",
              " ('INDUS', -9.421716878899034e-16),\n",
              " ('CHAS', 1.4687619068025348e-15),\n",
              " ('NOX', 1.567999270463312e-14),\n",
              " ('RM', 1.6196150865767367e-15),\n",
              " ('AGE', -2.5587171270657905e-17),\n",
              " ('DIS', 2.504507018441515e-16),\n",
              " ('RAD', 2.40692882291782e-16),\n",
              " ('TAX', 7.632783294297951e-17),\n",
              " ('PTRATIO', -2.1963225509125106e-16),\n",
              " ('B', 1.717376241217039e-16),\n",
              " ('LSTAT', -1.0386656812411132e-16)]"
            ]
          },
          "metadata": {
            "tags": []
          },
          "execution_count": 25
        }
      ]
    },
    {
      "cell_type": "markdown",
      "metadata": {
        "id": "ByoekD8ApPxH"
      },
      "source": [
        "14-Faça uma previsão usando o conjunto de X de teste"
      ]
    },
    {
      "cell_type": "code",
      "metadata": {
        "colab": {
          "base_uri": "https://localhost:8080/"
        },
        "id": "SXCtT1Rht74u",
        "outputId": "639d655c-5f1d-4622-d714-ac201f742241"
      },
      "source": [
        "y_pred = linreg.predict(X_test)\n",
        "print(y_pred)"
      ],
      "execution_count": 26,
      "outputs": [
        {
          "output_type": "stream",
          "text": [
            "[37.6 27.9 22.6 13.8 35.2 10.4 23.9 29.  22.8 23.2 33.2 19.  20.3 36.1\n",
            " 24.4 17.2 17.9 19.6 19.7 15.   8.1 23.  44.8 23.1 32.2 10.8 23.1 21.2\n",
            " 22.2 24.1 17.3  7.  12.7 17.8 26.4 19.6 25.1  8.3 48.8 34.9 13.8 14.4\n",
            " 30.1 12.7 27.1 24.8  7.  20.5 21.5 14.  20.4 22.2 21.4 13.5 19.4 24.7\n",
            " 43.8 14.1 28.6 19.7 16.8 23.2 16.2 41.3 22.7  8.3 18.4 24.7 21.7 20.6\n",
            " 16.7 22.1 19.4 27.5 27.9 30.1 17.4 15.4 31.  14.2 19.6 50.  21.7 11.7\n",
            " 19.4 13.  17.5  9.7 20.3 18.6 50.  19.6 21.4 18.4 22.6 25.  15.6 26.6\n",
            " 22.4 13.1 23.  24.5 13.1 50.   8.8 20.6 12.1 50.  24.1 16.1 23.9 24.3\n",
            " 13.1 30.3 15.2 13.8 26.4 16.6 18.9 17.6 18.7 33.4 20.7 17.1 23.4 26.5\n",
            " 21.4]\n"
          ],
          "name": "stdout"
        }
      ]
    },
    {
      "cell_type": "markdown",
      "metadata": {
        "id": "CgM5w4WdpP0v"
      },
      "source": [
        "15-Mostre a margem de error, usando o método \"Root Mean Squared Error (RMSE)\""
      ]
    },
    {
      "cell_type": "code",
      "metadata": {
        "colab": {
          "base_uri": "https://localhost:8080/"
        },
        "id": "T8s8ir-HuCeb",
        "outputId": "bad04fc0-5bbf-43e8-9625-c81b79d28c94"
      },
      "source": [
        "from sklearn import metrics\n",
        "\n",
        "true = [100, 50, 30, 20]\n",
        "pred = [90, 50, 50, 30]\n",
        "\n",
        "print((10 + 0 + 20 + 10)/4.)\n",
        "\n",
        "print(np.sqrt(metrics.mean_squared_error(true, pred)))"
      ],
      "execution_count": 34,
      "outputs": [
        {
          "output_type": "stream",
          "text": [
            "10.0\n",
            "12.24744871391589\n"
          ],
          "name": "stdout"
        }
      ]
    },
    {
      "cell_type": "markdown",
      "metadata": {
        "id": "Lstbs8WbpBuu"
      },
      "source": [
        "16-Existe uma forma de melhorar essa margem para que fique menor? Se sim, como seria?\n",
        "\n",
        "Existe. Basta reduzir o número de colunas."
      ]
    },
    {
      "cell_type": "code",
      "metadata": {
        "colab": {
          "base_uri": "https://localhost:8080/"
        },
        "id": "nJ1LKCMWuODk",
        "outputId": "fe84384b-770f-4480-86e1-6d5bcf8ebba6"
      },
      "source": [
        "import numpy as np\n",
        "\n",
        "feature_cols = ['MEDV']\n",
        "\n",
        "X = data[feature_cols]\n",
        "\n",
        "y = data.MEDV\n",
        "\n",
        "X_train, X_test, y_train, y_test = train_test_split(X, y, random_state=5)\n",
        "\n",
        "linreg.fit(X_train, y_train)\n",
        "\n",
        "y_pred = linreg.predict(X_test)\n",
        "\n",
        "print(np.sqrt(metrics.mean_squared_error(y_test, y_pred)))"
      ],
      "execution_count": 35,
      "outputs": [
        {
          "output_type": "stream",
          "text": [
            "6.3794803005868234e-15\n"
          ],
          "name": "stdout"
        }
      ]
    }
  ]
}